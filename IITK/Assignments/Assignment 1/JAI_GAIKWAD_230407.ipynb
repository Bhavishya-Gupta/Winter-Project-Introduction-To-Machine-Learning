{
 "cells": [
  {
   "cell_type": "code",
   "execution_count": 3,
   "id": "29c9b0a5-07bd-4243-b053-ba89c6397863",
   "metadata": {},
   "outputs": [
    {
     "name": "stdout",
     "output_type": "stream",
     "text": [
      "[[[-0.78182471 -1.71978888 -0.78182471 -0.24069153]\n",
      "  [ 0.80549928 -1.2508068   0.91372592  0.51689492]\n",
      "  [ 0.08398838 -0.8539758   1.31055692  1.0580281 ]\n",
      "  [-0.92612689  0.98587701 -0.56537144  0.94980147]]\n",
      "\n",
      " [[-1.07042907  1.27448137  1.20233028 -0.63752253]\n",
      "  [-0.70967362 -0.92612689 -1.28688234 -0.63752253]\n",
      "  [ 0.12006392 -0.89005134 -0.96220243  0.3365172 ]\n",
      "  [ 1.02195256 -1.03435352 -1.2508068   0.3365172 ]]\n",
      "\n",
      " [[ 0.73334819  0.6611971  -0.96220243 -0.31284262]\n",
      "  [ 1.20233028 -0.56537144 -1.53941116 -1.75586443]\n",
      "  [ 1.27448137 -1.2508068   0.19221501  1.0580281 ]\n",
      "  [ 1.52701019  0.04791283 -0.67359807  0.98587701]]\n",
      "\n",
      " [[ 1.77953901 -0.0603138   1.4548591   1.56308573]\n",
      "  [-0.67359807 -1.21473125 -0.20461598  0.69727265]\n",
      "  [-1.10650461  0.73334819  1.4548591  -0.24069153]\n",
      "  [-1.50333561  1.20233028  0.98587701  0.12006392]]]\n"
     ]
    }
   ],
   "source": [
    "#question 1\n",
    "import numpy as np\n",
    "\n",
    "a = np.random.randint(1,101,size=(4,4,4))\n",
    "\n",
    "mean = np.mean(a)\n",
    "std = np.std(a)\n",
    "\n",
    "#the z score normalization array can be obtained as follows\n",
    "z_score = (a-mean)/std\n",
    "\n",
    "print(z_score)"
   ]
  },
  {
   "cell_type": "code",
   "execution_count": 9,
   "id": "3bf5b7d4-2b88-491f-85e4-f397601af270",
   "metadata": {},
   "outputs": [
    {
     "data": {
      "text/plain": [
       "array([-696.,    0., 1080.])"
      ]
     },
     "execution_count": 9,
     "metadata": {},
     "output_type": "execute_result"
    }
   ],
   "source": [
    "#Q5. Using NumPy, calculate the dot product of two matrices and find the determinant of the resulting matrix.\n",
    "import numpy as np\n",
    "a = np.random.randint(7,size=(3,3,3))\n",
    "b = np.random.randint(7,size=(3,3,3))\n",
    "z = np.matmul(a,b)\n",
    "np.linalg.det(z)"
   ]
  },
  {
   "cell_type": "code",
   "execution_count": 11,
   "id": "5b1b0165-56b1-41c3-a57b-a84951e5f468",
   "metadata": {},
   "outputs": [
    {
     "data": {
      "text/plain": [
       "array([[1, 2, 3],\n",
       "       [5, 6, 7]])"
      ]
     },
     "execution_count": 11,
     "metadata": {},
     "output_type": "execute_result"
    }
   ],
   "source": [
    "#Q8. Using NumPy, create a 2D array and perform a slicing operation to extract a specific sub-array.\n",
    "a = np.array([[1,2,3,4,5],[5,6,7,8,9]])\n",
    "a[:,0:3]  # Slicing the 2D array to get the specific sub array"
   ]
  },
  {
   "cell_type": "code",
   "execution_count": 4,
   "id": "835d44fa-31d7-464e-84fa-137343d0d5ec",
   "metadata": {},
   "outputs": [
    {
     "name": "stdout",
     "output_type": "stream",
     "text": [
      "     sepal_length  sepal_width  petal_length  petal_width     species\n",
      "50            7.0          3.2           4.7          1.4  versicolor\n",
      "51            6.4          3.2           4.5          1.5  versicolor\n",
      "52            6.9          3.1           4.9          1.5  versicolor\n",
      "53            5.5          2.3           4.0          1.3  versicolor\n",
      "54            6.5          2.8           4.6          1.5  versicolor\n",
      "..            ...          ...           ...          ...         ...\n",
      "145           6.7          3.0           5.2          2.3   virginica\n",
      "146           6.3          2.5           5.0          1.9   virginica\n",
      "147           6.5          3.0           5.2          2.0   virginica\n",
      "148           6.2          3.4           5.4          2.3   virginica\n",
      "149           5.9          3.0           5.1          1.8   virginica\n",
      "\n",
      "[99 rows x 5 columns]\n"
     ]
    }
   ],
   "source": [
    "import pandas as pd\n",
    "import seaborn as sns\n",
    "\n",
    "iris = sns.load_dataset('iris')\n",
    "\n",
    "# Filter the rows where petal length is greater than 3.0\n",
    "filtered_data = iris[iris['petal_length'] > 3.0]\n",
    "\n",
    "# Display the filtered data\n",
    "print(filtered_data)"
   ]
  },
  {
   "cell_type": "code",
   "execution_count": 5,
   "id": "ad11c07b-d36a-4724-a1be-43e1e06b0ce3",
   "metadata": {},
   "outputs": [
    {
     "data": {
      "text/html": [
       "<div>\n",
       "<style scoped>\n",
       "    .dataframe tbody tr th:only-of-type {\n",
       "        vertical-align: middle;\n",
       "    }\n",
       "\n",
       "    .dataframe tbody tr th {\n",
       "        vertical-align: top;\n",
       "    }\n",
       "\n",
       "    .dataframe thead th {\n",
       "        text-align: right;\n",
       "    }\n",
       "</style>\n",
       "<table border=\"1\" class=\"dataframe\">\n",
       "  <thead>\n",
       "    <tr style=\"text-align: right;\">\n",
       "      <th></th>\n",
       "      <th>sepal_length</th>\n",
       "      <th>sepal_width</th>\n",
       "      <th>petal_length</th>\n",
       "      <th>petal_width</th>\n",
       "      <th>species</th>\n",
       "    </tr>\n",
       "  </thead>\n",
       "  <tbody>\n",
       "    <tr>\n",
       "      <th>0</th>\n",
       "      <td>5.1</td>\n",
       "      <td>3.5</td>\n",
       "      <td>1.4</td>\n",
       "      <td>0.2</td>\n",
       "      <td>setosa</td>\n",
       "    </tr>\n",
       "    <tr>\n",
       "      <th>1</th>\n",
       "      <td>4.9</td>\n",
       "      <td>3.0</td>\n",
       "      <td>1.4</td>\n",
       "      <td>0.2</td>\n",
       "      <td>setosa</td>\n",
       "    </tr>\n",
       "    <tr>\n",
       "      <th>2</th>\n",
       "      <td>4.7</td>\n",
       "      <td>3.2</td>\n",
       "      <td>1.3</td>\n",
       "      <td>0.2</td>\n",
       "      <td>setosa</td>\n",
       "    </tr>\n",
       "    <tr>\n",
       "      <th>3</th>\n",
       "      <td>4.6</td>\n",
       "      <td>3.1</td>\n",
       "      <td>1.5</td>\n",
       "      <td>0.2</td>\n",
       "      <td>setosa</td>\n",
       "    </tr>\n",
       "    <tr>\n",
       "      <th>4</th>\n",
       "      <td>5.0</td>\n",
       "      <td>3.6</td>\n",
       "      <td>1.4</td>\n",
       "      <td>0.2</td>\n",
       "      <td>setosa</td>\n",
       "    </tr>\n",
       "    <tr>\n",
       "      <th>...</th>\n",
       "      <td>...</td>\n",
       "      <td>...</td>\n",
       "      <td>...</td>\n",
       "      <td>...</td>\n",
       "      <td>...</td>\n",
       "    </tr>\n",
       "    <tr>\n",
       "      <th>145</th>\n",
       "      <td>6.7</td>\n",
       "      <td>3.0</td>\n",
       "      <td>5.2</td>\n",
       "      <td>2.3</td>\n",
       "      <td>virginica</td>\n",
       "    </tr>\n",
       "    <tr>\n",
       "      <th>146</th>\n",
       "      <td>6.3</td>\n",
       "      <td>2.5</td>\n",
       "      <td>5.0</td>\n",
       "      <td>1.9</td>\n",
       "      <td>virginica</td>\n",
       "    </tr>\n",
       "    <tr>\n",
       "      <th>147</th>\n",
       "      <td>6.5</td>\n",
       "      <td>3.0</td>\n",
       "      <td>5.2</td>\n",
       "      <td>2.0</td>\n",
       "      <td>virginica</td>\n",
       "    </tr>\n",
       "    <tr>\n",
       "      <th>148</th>\n",
       "      <td>6.2</td>\n",
       "      <td>3.4</td>\n",
       "      <td>5.4</td>\n",
       "      <td>2.3</td>\n",
       "      <td>virginica</td>\n",
       "    </tr>\n",
       "    <tr>\n",
       "      <th>149</th>\n",
       "      <td>5.9</td>\n",
       "      <td>3.0</td>\n",
       "      <td>5.1</td>\n",
       "      <td>1.8</td>\n",
       "      <td>virginica</td>\n",
       "    </tr>\n",
       "  </tbody>\n",
       "</table>\n",
       "<p>150 rows × 5 columns</p>\n",
       "</div>"
      ],
      "text/plain": [
       "     sepal_length  sepal_width  petal_length  petal_width    species\n",
       "0             5.1          3.5           1.4          0.2     setosa\n",
       "1             4.9          3.0           1.4          0.2     setosa\n",
       "2             4.7          3.2           1.3          0.2     setosa\n",
       "3             4.6          3.1           1.5          0.2     setosa\n",
       "4             5.0          3.6           1.4          0.2     setosa\n",
       "..            ...          ...           ...          ...        ...\n",
       "145           6.7          3.0           5.2          2.3  virginica\n",
       "146           6.3          2.5           5.0          1.9  virginica\n",
       "147           6.5          3.0           5.2          2.0  virginica\n",
       "148           6.2          3.4           5.4          2.3  virginica\n",
       "149           5.9          3.0           5.1          1.8  virginica\n",
       "\n",
       "[150 rows x 5 columns]"
      ]
     },
     "execution_count": 5,
     "metadata": {},
     "output_type": "execute_result"
    }
   ],
   "source": [
    "import pandas as pd\n",
    "import seaborn as sns\n",
    "\n",
    "data = sns.load_dataset('iris')\n",
    "data"
   ]
  },
  {
   "cell_type": "code",
   "execution_count": 11,
   "id": "297c7cb5-553b-4dc9-aaa8-08943cb231ac",
   "metadata": {},
   "outputs": [],
   "source": [
    "filtered = data[data['petal_length']>3]"
   ]
  },
  {
   "cell_type": "code",
   "execution_count": 12,
   "id": "0f09cf8c-d140-4358-b4cd-01dab600f404",
   "metadata": {},
   "outputs": [
    {
     "name": "stdout",
     "output_type": "stream",
     "text": [
      "     sepal_length  sepal_width  petal_length  petal_width     species\n",
      "50            7.0          3.2           4.7          1.4  versicolor\n",
      "51            6.4          3.2           4.5          1.5  versicolor\n",
      "52            6.9          3.1           4.9          1.5  versicolor\n",
      "53            5.5          2.3           4.0          1.3  versicolor\n",
      "54            6.5          2.8           4.6          1.5  versicolor\n",
      "..            ...          ...           ...          ...         ...\n",
      "145           6.7          3.0           5.2          2.3   virginica\n",
      "146           6.3          2.5           5.0          1.9   virginica\n",
      "147           6.5          3.0           5.2          2.0   virginica\n",
      "148           6.2          3.4           5.4          2.3   virginica\n",
      "149           5.9          3.0           5.1          1.8   virginica\n",
      "\n",
      "[99 rows x 5 columns]\n"
     ]
    }
   ],
   "source": [
    "print(filtered)"
   ]
  },
  {
   "cell_type": "code",
   "execution_count": 1,
   "id": "e435457a-b3b6-4c44-9ee5-76828b9a1e7d",
   "metadata": {},
   "outputs": [
    {
     "name": "stdout",
     "output_type": "stream",
     "text": [
      "Original DataFrame with NaN values:\n",
      "          A         B         C\n",
      "0  0.374540  0.950714  0.731994\n",
      "1  0.598658  0.156019  0.155995\n",
      "2  0.058084  0.866176  0.601115\n",
      "3       NaN  0.020584  0.969910\n",
      "4  0.832443  0.212339  0.181825\n",
      "5  0.183405  0.304242  0.524756\n",
      "6  0.431945       NaN  0.611853\n",
      "7  0.139494  0.292145  0.366362\n",
      "8  0.456070  0.785176       NaN\n",
      "9  0.514234  0.592415  0.046450\n",
      "\n",
      "DataFrame after replacing NaN values with the mean of the column:\n",
      "          A         B         C\n",
      "0  0.374540  0.950714  0.731994\n",
      "1  0.598658  0.156019  0.155995\n",
      "2  0.058084  0.866176  0.601115\n",
      "3  0.398764  0.020584  0.969910\n",
      "4  0.832443  0.212339  0.181825\n",
      "5  0.183405  0.304242  0.524756\n",
      "6  0.431945  0.464423  0.611853\n",
      "7  0.139494  0.292145  0.366362\n",
      "8  0.456070  0.785176  0.465584\n",
      "9  0.514234  0.592415  0.046450\n",
      "\n",
      "DataFrame sorted by columns 'A' (ascending) and 'B' (descending):\n",
      "          A         B         C\n",
      "2  0.058084  0.866176  0.601115\n",
      "7  0.139494  0.292145  0.366362\n",
      "5  0.183405  0.304242  0.524756\n",
      "0  0.374540  0.950714  0.731994\n",
      "3  0.398764  0.020584  0.969910\n",
      "6  0.431945  0.464423  0.611853\n",
      "8  0.456070  0.785176  0.465584\n",
      "9  0.514234  0.592415  0.046450\n",
      "1  0.598658  0.156019  0.155995\n",
      "4  0.832443  0.212339  0.181825\n"
     ]
    }
   ],
   "source": [
    "#Q4.Create a Pandas DataFrame with random values with at least 3 columns and perform the following operations: (i) Replace NaN values with the mean of the column. (ii) Sort the DataFrame based on any two columns.\n",
    "import pandas as pd\n",
    "import numpy as np\n",
    "\n",
    "np.random.seed(42)\n",
    "data = np.random.rand(10, 3) \n",
    "df = pd.DataFrame(data, columns=['A', 'B', 'C'])\n",
    "\n",
    "\n",
    "df.iloc[3, 0] = np.nan\n",
    "df.iloc[6, 1] = np.nan\n",
    "df.iloc[8, 2] = np.nan\n",
    "\n",
    "\n",
    "print(\"Original DataFrame with NaN values:\")\n",
    "print(df)\n",
    "df.fillna(df.mean(), inplace=True)\n",
    "\n",
    "print(\"\\nDataFrame after replacing NaN values with the mean of the column:\")\n",
    "print(df)\n",
    "\n",
    "df_sorted = df.sort_values(by=['A', 'B'], ascending=[True, False])\n",
    "\n",
    "print(\"\\nDataFrame sorted by columns 'A' (ascending) and 'B' (descending):\")\n",
    "print(df_sorted)"
   ]
  },
  {
   "cell_type": "code",
   "execution_count": 2,
   "id": "fb305c20-6fce-41b2-9766-cdd039ae9010",
   "metadata": {},
   "outputs": [
    {
     "name": "stdout",
     "output_type": "stream",
     "text": [
      "Category\n",
      "A    11\n",
      "B    15\n",
      "C     9\n",
      "Name: Value, dtype: int64\n"
     ]
    }
   ],
   "source": [
    "#Q6. With Pandas, group a DataFrame by a categorical column and calculate the sum of another numerical column for each group.\n",
    "import pandas as pd\n",
    "var = pd.DataFrame({\"Category\":['A','A','B','B','C'],\"Value\":[5,6,7,8,9]})\n",
    "var\n",
    "result = var.groupby('Category')['Value'].sum()\n",
    "print(result)"
   ]
  },
  {
   "cell_type": "code",
   "execution_count": 3,
   "id": "04c18d21-9e85-4fa4-8afe-30204e901f7c",
   "metadata": {},
   "outputs": [
    {
     "name": "stdout",
     "output_type": "stream",
     "text": [
      "  Category  Value\n",
      "0        A      5\n",
      "1        B      6\n",
      "2        C      7\n",
      "3        D      8\n",
      "4        E      9\n",
      "  Category  ids\n",
      "0        A    5\n",
      "1        B    6\n",
      "2        C    7\n",
      "3        D    8\n",
      "4        E    9\n"
     ]
    },
    {
     "data": {
      "text/html": [
       "<div>\n",
       "<style scoped>\n",
       "    .dataframe tbody tr th:only-of-type {\n",
       "        vertical-align: middle;\n",
       "    }\n",
       "\n",
       "    .dataframe tbody tr th {\n",
       "        vertical-align: top;\n",
       "    }\n",
       "\n",
       "    .dataframe thead th {\n",
       "        text-align: right;\n",
       "    }\n",
       "</style>\n",
       "<table border=\"1\" class=\"dataframe\">\n",
       "  <thead>\n",
       "    <tr style=\"text-align: right;\">\n",
       "      <th></th>\n",
       "      <th>Category</th>\n",
       "      <th>Value</th>\n",
       "      <th>ids</th>\n",
       "    </tr>\n",
       "  </thead>\n",
       "  <tbody>\n",
       "    <tr>\n",
       "      <th>0</th>\n",
       "      <td>A</td>\n",
       "      <td>5</td>\n",
       "      <td>5</td>\n",
       "    </tr>\n",
       "    <tr>\n",
       "      <th>1</th>\n",
       "      <td>B</td>\n",
       "      <td>6</td>\n",
       "      <td>6</td>\n",
       "    </tr>\n",
       "    <tr>\n",
       "      <th>2</th>\n",
       "      <td>C</td>\n",
       "      <td>7</td>\n",
       "      <td>7</td>\n",
       "    </tr>\n",
       "    <tr>\n",
       "      <th>3</th>\n",
       "      <td>D</td>\n",
       "      <td>8</td>\n",
       "      <td>8</td>\n",
       "    </tr>\n",
       "    <tr>\n",
       "      <th>4</th>\n",
       "      <td>E</td>\n",
       "      <td>9</td>\n",
       "      <td>9</td>\n",
       "    </tr>\n",
       "  </tbody>\n",
       "</table>\n",
       "</div>"
      ],
      "text/plain": [
       "  Category  Value  ids\n",
       "0        A      5    5\n",
       "1        B      6    6\n",
       "2        C      7    7\n",
       "3        D      8    8\n",
       "4        E      9    9"
      ]
     },
     "execution_count": 3,
     "metadata": {},
     "output_type": "execute_result"
    }
   ],
   "source": [
    "#Q9. Using Pandas, perform a merge operation between two DataFrames based on a common column for dataset of your choice.\n",
    "import pandas as pd\n",
    "\n",
    "var1 = pd.DataFrame({\"Category\":['A','B','C','D','E'],\"Value\":[5,6,7,8,9]})\n",
    "var2 = pd.DataFrame({\"Category\":['A','B','C','D','E'],\"ids\":[5,6,7,8,9]})\n",
    "print(var1)\n",
    "print(var2)\n",
    "pd.merge(var1,var2,on = \"Category\")"
   ]
  },
  {
   "cell_type": "code",
   "execution_count": 3,
   "id": "1d8cb0a3-9a75-4088-8ec8-ac0e109d6cdc",
   "metadata": {},
   "outputs": [
    {
     "data": {
      "image/png": "[encoded data removed]",
      "text/plain": [
       "<Figure size 640x480 with 1 Axes>"
      ]
     },
     "metadata": {},
     "output_type": "display_data"
    }
   ],
   "source": [
    "#Q3. Using Matplotlib, plot a line graph showing the trend of a numerical dataset. Customize the plot with title, axis labels, and a legend.\n",
    "import matplotlib.pyplot as plt\n",
    "import numpy as np\n",
    "\n",
    "x = np.arange(0,5,0.1)\n",
    "y= np.sin(x)\n",
    "\n",
    "plt.plot(x, y, label='THE GRAPH', color='r', marker='o')\n",
    "\n",
    "plt.title('Numerical data') \n",
    "plt.xlabel('X-values') \n",
    "plt.ylabel('Y-value')\n",
    "plt.legend() \n",
    "plt.show()"
   ]
  },
  {
   "cell_type": "code",
   "execution_count": 22,
   "id": "4d14aa53-dad3-473c-9c59-3e0360384c45",
   "metadata": {},
   "outputs": [
    {
     "data": {
      "image/png": "[encoded data removed]",
      "text/plain": [
       "<Figure size 640x480 with 1 Axes>"
      ]
     },
     "metadata": {},
     "output_type": "display_data"
    }
   ],
   "source": [
    "#Q7. Using Matplotlib, create a histogram to show the distribution of a numerical dataset. Customize the number of bins and add grid lines for better readability.\n",
    "import matplotlib.pyplot as plt\n",
    "import numpy as np\n",
    "import random \n",
    "\n",
    "x = np.random.randint(0,60,(50))\n",
    "plt.hist(x,color='aqua',edgecolor='black',bins = [0,10,20,30,40,50,60],label=\"Histogram\")\n",
    "plt.xlabel('RandomX')\n",
    "plt.ylabel('RandomY')\n",
    "plt.title('RandomHisto')\n",
    "plt.grid()\n",
    "plt.legend()\n",
    "plt.show()"
   ]
  },
  {
   "cell_type": "code",
   "execution_count": 19,
   "id": "4be0cc80-525d-4876-9016-1ede8e90b967",
   "metadata": {},
   "outputs": [
    {
     "data": {
      "image/png": "[encoded data removed]",
      "text/plain": [
       "<Figure size 640x480 with 1 Axes>"
      ]
     },
     "metadata": {},
     "output_type": "display_data"
    }
   ],
   "source": [
    "#Q10. Using Matplotlib, create a scatter plot comparing two numerical variables in the dataset of your choice. Customize the plot by changing the color and shape of the data points.\n",
    "import matplotlib.pyplot as plt\n",
    "\n",
    "x =[1,2,3,4,5,6]\n",
    "y=[5,6,2,6,8,9]\n",
    "\n",
    "plt.scatter(x, y, color='green', marker='o', label='Data Points')\n",
    "\n",
    "plt.title('Comparing Two Variables')  \n",
    "plt.xlabel('X-axis Label')  \n",
    "plt.ylabel('Y-axis Label') \n",
    "plt.legend()\n",
    "plt.show()"
   ]
  },
  {
   "cell_type": "code",
   "execution_count": null,
   "id": "33bea7e1-4a78-42c0-84a3-6830d2e6e487",
   "metadata": {},
   "outputs": [],
   "source": []
  }
 ],
 "metadata": {
  "kernelspec": {
   "display_name": "Python 3 (ipykernel)",
   "language": "python",
   "name": "python3"
  },
  "language_info": {
   "codemirror_mode": {
    "name": "ipython",
    "version": 3
   },
   "file_extension": ".py",
   "mimetype": "text/x-python",
   "name": "python",
   "nbconvert_exporter": "python",
   "pygments_lexer": "ipython3",
   "version": "3.13.1"
  }
 },
 "nbformat": 4,
 "nbformat_minor": 5
}
